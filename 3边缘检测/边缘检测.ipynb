{
 "cells": [
  {
   "cell_type": "markdown",
   "metadata": {
    "collapsed": true,
    "pycharm": {
     "name": "#%% md\n"
    }
   },
   "source": [
    "## Canny边缘检测\n",
    "- 使用高斯滤波器，以平滑图像，滤除噪声\n",
    "- 计算图中每个像素点的梯度强度和方向\n",
    "- 应用非极大值抑制，以消除边缘检测带来的杂散效应\n",
    "- 应用双阈值检测来确定真实和潜在的边缘\n",
    "- 通过抑制孤立的弱边缘最终完成边缘检测\n",
    "\n",
    "### 1.高斯滤波\n",
    "![jupyter](./imgs/1617884-20200210161858706-476219659.png)"
   ]
  }
 ],
 "metadata": {
  "kernelspec": {
   "display_name": "Python 3",
   "language": "python",
   "name": "python3"
  },
  "language_info": {
   "codemirror_mode": {
    "name": "ipython",
    "version": 2
   },
   "file_extension": ".py",
   "mimetype": "text/x-python",
   "name": "python",
   "nbconvert_exporter": "python",
   "pygments_lexer": "ipython2",
   "version": "2.7.6"
  }
 },
 "nbformat": 4,
 "nbformat_minor": 0
}